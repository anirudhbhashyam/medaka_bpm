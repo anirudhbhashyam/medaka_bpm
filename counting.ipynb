{
    "cells": [
        {
            "cell_type": "code",
            "execution_count": null,
            "source": [],
            "outputs": [],
            "metadata": {}
        },
        {
            "cell_type": "code",
            "execution_count": 1,
            "source": [
                "mypath = 'C:/Users/marci/Downloads/results'\r\n",
                "from os import listdir\r\n",
                "from os.path import isfile, join\r\n",
                "bpm_report = [f for f in listdir(mypath) if isfile(join(mypath, f))]\r\n",
                "print(f\"total files bpm: {str(len(bpm_report))}\")\r\n"
            ],
            "outputs": [
                {
                    "output_type": "stream",
                    "name": "stdout",
                    "text": [
                        "total files bpm: 57\n"
                    ]
                }
            ],
            "metadata": {}
        },
        {
            "cell_type": "code",
            "execution_count": 25,
            "source": [
                "mypath = 'C:/Users/marci/Downloads/logfiles'\r\n",
                "from os import listdir\r\n",
                "from os.path import isfile, join\r\n",
                "log_files = [f for f in listdir(mypath) if isfile(join(mypath, f))]\r\n",
                "print(f\"total files logfiles type: {str(len(log_files))}\")\r\n",
                "#print(log_files)\r\n"
            ],
            "outputs": [
                {
                    "output_type": "stream",
                    "name": "stdout",
                    "text": [
                        "total files logfiles type: 68\n"
                    ]
                }
            ],
            "metadata": {}
        },
        {
            "cell_type": "code",
            "execution_count": 30,
            "source": [
                "#bpm_report\r\n",
                "croped_bpm_report  = []\r\n",
                "for f in bpm_report:\r\n",
                "    croped_bpm_report.append(f[0:12])\r\n",
                "#print(croped_bpm_report)\r\n",
                "\r\n",
                "absent_logs = []\r\n",
                "for f in croped_bpm_report:\r\n",
                "    \r\n",
                "    present = False    \r\n",
                "    for x in log_files:\r\n",
                "        \r\n",
                "        if f in x:\r\n",
                "            present = True\r\n",
                "    if present == False:\r\n",
                "        absent_logs.append(f)        \r\n",
                "        \r\n",
                "print(f\"logs ausente = {absent_logs}\")\r\n",
                "\r\n",
                "print(\"found at /ebi/ftp/private/indigene_ftp/upload/heart_rate/transfer/Missing_Log_files\")"
            ],
            "outputs": [
                {
                    "output_type": "stream",
                    "name": "stdout",
                    "text": [
                        "logs ausente = ['200313140410', '200313152204', '200313163128', '200317141928', '200317152527', '200317163503', '200706142144', '200707155732', '210301093705', '210302100028', 'medaka_outdi']\n",
                        "found at /ebi/ftp/private/indigene_ftp/upload/heart_rate/transfer/Missing_Log_files\n"
                    ]
                }
            ],
            "metadata": {}
        },
        {
            "cell_type": "code",
            "execution_count": 26,
            "source": [
                "import pandas as pd\r\n",
                "df = pd.read_csv('C:/Users/marci/Downloads/all_logfiles_linked.txt', delimiter = \"\\t\")\r\n",
                "unique = df['plate_id'].drop_duplicates()\r\n",
                "#unique.to_csv(r'C:/Users/marci/Downloads/uniques_linked.txt', header=None, index=None, sep=' ', mode='a')\r\n",
                "unique.count()\r\n",
                "linked = unique.tolist()\r\n",
                "print(f\"total linked: {str(len(linked))}\")\r\n",
                "\r\n",
                "uncomum = []\r\n",
                "for i in linked:    \r\n",
                "    for x in bpm_report:\r\n",
                "        if i in x:\r\n",
                "            achou = 1\r\n",
                "            break\r\n",
                "        else:\r\n",
                "            achou = 0\r\n",
                "    if achou == 0:\r\n",
                "        uncomum.append(i)\r\n",
                "\r\n",
                "\r\n",
                "\r\n",
                "print(f\"total não comum (faltando como bpm): {str(len(uncomum))}\")\r\n",
                "print(uncomum)\r\n",
                "\r\n",
                "print(\"found at /ebi/ftp/private/indigene_ftp/upload/heart_rate/transfer/Heart_rate_data_IM04_Bettina/200824_Imaging\")\r\n"
            ],
            "outputs": [
                {
                    "output_type": "stream",
                    "name": "stdout",
                    "text": [
                        "total linked: 68\n",
                        "total não comum (faltando como bpm): 22\n",
                        "['191111150440_OlE_IPF0_HR_21C', '191111155650_OlE_IPF0_HR_28C', '191111164728_OlE_IPF0_HR_35C', '191112143554_OlE_IPF0_HR_21C', '191112152804_OlE_IPF0_HR_28C', '191112162042_OlE_IPF0_HR_35C', '191119134404_OlE_IPF0_HR_21C', '191119145732_OlE_IPF0_HR_28C', '191119161037_OlE_IPF0_HR_35C', '191129145148_OlE_IPF0_HR_21C', '191129160632_OlE_IPF0_HR_28C', '191129172711_OlE_IPF0_HR_35C', '191209141611_OlE_IPF0_HR_21C', '191209154213_OlE_IPF0_HR_28C', '191209165957_OlE_IPF0_HR_35C', '191210142619_OlE_IPF0_HR_21C', '191210160757_OlE_IPF0_HR_28C', '191210172316_OlE_IPF0_HR_35C', '200824142823_OlE_HR_IPF0_21C', '200824153854_OlE_HR_IPF0_28C', '200824164950_OlE_HR_IPF0_35C', '201026160211_OlE_HR_IPF0_35C']\n",
                        "found at /ebi/ftp/private/indigene_ftp/upload/heart_rate/transfer/Heart_rate_data_IM04_Bettina/200824_Imaging\n"
                    ]
                }
            ],
            "metadata": {}
        },
        {
            "cell_type": "code",
            "execution_count": 28,
            "source": [
                "import pandas as pd\r\n",
                "df = pd.read_csv('C:/Users/marci/Downloads/all_logfiles_linked.txt', delimiter = \"\\t\")\r\n",
                "unique = df['plate_id'].drop_duplicates()\r\n",
                "#unique.to_csv(r'C:/Users/marci/Downloads/uniques_linked.txt', header=None, index=None, sep=' ', mode='a')\r\n",
                "unique.count()\r\n",
                "linked = unique.tolist()\r\n",
                "print(f\"total linked: {str(len(linked))}\")\r\n",
                "\r\n",
                "'''uncomum = []\r\n",
                "for i in linked:    \r\n",
                "    for x in log_files:\r\n",
                "        if i in x:\r\n",
                "            achou = 1\r\n",
                "            break\r\n",
                "        else:\r\n",
                "            achou = 0\r\n",
                "    if achou == 0:\r\n",
                "        uncomum.append(i)\r\n",
                "\r\n",
                "\r\n",
                "\r\n",
                "print(f\"total não comum (faltando como logfile): {str(len(uncomum))}\")\r\n",
                "print(uncomum)'''"
            ],
            "outputs": [
                {
                    "output_type": "stream",
                    "name": "stdout",
                    "text": [
                        "total linked: 68\n"
                    ]
                },
                {
                    "output_type": "execute_result",
                    "data": {
                        "text/plain": [
                            "'uncomum = []\\nfor i in linked:    \\n    for x in log_files:\\n        if i in x:\\n            achou = 1\\n            break\\n        else:\\n            achou = 0\\n    if achou == 0:\\n        uncomum.append(i)\\n\\n\\n\\nprint(f\"total não comum (faltando como logfile): {str(len(uncomum))}\")\\nprint(uncomum)'"
                        ]
                    },
                    "metadata": {},
                    "execution_count": 28
                }
            ],
            "metadata": {}
        },
        {
            "cell_type": "code",
            "execution_count": 54,
            "source": [],
            "outputs": [
                {
                    "output_type": "execute_result",
                    "data": {
                        "text/plain": [
                            "9"
                        ]
                    },
                    "metadata": {},
                    "execution_count": 54
                }
            ],
            "metadata": {}
        },
        {
            "cell_type": "code",
            "execution_count": 55,
            "source": [
                "next(a)"
            ],
            "outputs": [
                {
                    "output_type": "execute_result",
                    "data": {
                        "text/plain": [
                            "36"
                        ]
                    },
                    "metadata": {},
                    "execution_count": 55
                }
            ],
            "metadata": {}
        }
    ],
    "metadata": {
        "orig_nbformat": 4,
        "language_info": {
            "name": "python",
            "version": "3.8.10",
            "mimetype": "text/x-python",
            "codemirror_mode": {
                "name": "ipython",
                "version": 3
            },
            "pygments_lexer": "ipython3",
            "nbconvert_exporter": "python",
            "file_extension": ".py"
        },
        "kernelspec": {
            "name": "python3",
            "display_name": "Python 3.8.10 64-bit ('medaka_env': conda)"
        },
        "interpreter": {
            "hash": "fadc9219756e11fd840e5592eada9f4cf94429886fc0a39a859fba14bfecfba9"
        }
    },
    "nbformat": 4,
    "nbformat_minor": 2
}